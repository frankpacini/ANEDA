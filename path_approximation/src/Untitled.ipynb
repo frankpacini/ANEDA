{
 "cells": [
  {
   "cell_type": "code",
   "execution_count": 20,
   "id": "4b85f2ac",
   "metadata": {},
   "outputs": [
    {
     "ename": "ImportError",
     "evalue": "cannot import name 'run' from 'testing_functions' (/projectnb2/cs440/students/yuanl1/dl-hyperbolic-random-graphs/path_approximation/src/testing_functions.py)",
     "output_type": "error",
     "traceback": [
      "\u001b[0;31m---------------------------------------------------------------------------\u001b[0m",
      "\u001b[0;31mImportError\u001b[0m                               Traceback (most recent call last)",
      "\u001b[0;32m/projectnb2/cs440/students/yuanl1/dl-hyperbolic-random-graphs/path_approximation/src/main.py\u001b[0m in \u001b[0;36m<module>\u001b[0;34m\u001b[0m\n\u001b[1;32m      1\u001b[0m \u001b[0;32mfrom\u001b[0m \u001b[0mutilities\u001b[0m \u001b[0;32mimport\u001b[0m \u001b[0mmake_log_folder\u001b[0m\u001b[0;34m\u001b[0m\u001b[0;34m\u001b[0m\u001b[0m\n\u001b[1;32m      2\u001b[0m \u001b[0;34m\u001b[0m\u001b[0m\n\u001b[0;32m----> 3\u001b[0;31m \u001b[0;32mfrom\u001b[0m \u001b[0mtesting_functions\u001b[0m \u001b[0;32mimport\u001b[0m \u001b[0mrun_some_linear_models\u001b[0m\u001b[0;34m,\u001b[0m\u001b[0mrun\u001b[0m\u001b[0;34m\u001b[0m\u001b[0;34m\u001b[0m\u001b[0m\n\u001b[0m\u001b[1;32m      4\u001b[0m \u001b[0;32mimport\u001b[0m \u001b[0mtesting_functions\u001b[0m\u001b[0;34m\u001b[0m\u001b[0;34m\u001b[0m\u001b[0m\n\u001b[1;32m      5\u001b[0m \u001b[0;32mif\u001b[0m \u001b[0m__name__\u001b[0m \u001b[0;34m==\u001b[0m \u001b[0;34m'__main__'\u001b[0m\u001b[0;34m:\u001b[0m\u001b[0;34m\u001b[0m\u001b[0;34m\u001b[0m\u001b[0m\n",
      "\u001b[0;31mImportError\u001b[0m: cannot import name 'run' from 'testing_functions' (/projectnb2/cs440/students/yuanl1/dl-hyperbolic-random-graphs/path_approximation/src/testing_functions.py)"
     ]
    }
   ],
   "source": [
    "a = %run -i 'main.py'"
   ]
  },
  {
   "cell_type": "code",
   "execution_count": 2,
   "id": "078ddf6a",
   "metadata": {},
   "outputs": [
    {
     "name": "stdout",
     "output_type": "stream",
     "text": [
      "Defaulting to user installation because normal site-packages is not writeable\n",
      "Collecting torch\n",
      "  Downloading torch-1.10.0-cp38-cp38-manylinux1_x86_64.whl (881.9 MB)\n",
      "\u001b[K     |████████████████████████████████| 881.9 MB 1.0 MB/s eta 0:00:01   |▎                               | 6.6 MB 1.0 MB/s eta 0:14:33     |▍                               | 11.6 MB 8.9 MB/s eta 0:01:38     |▉                               | 21.8 MB 8.6 MB/s eta 0:01:41     |▉                               | 23.6 MB 8.6 MB/s eta 0:01:41     |██                              | 56.0 MB 1.1 MB/s eta 0:12:36     |██▌                             | 68.6 MB 805 kB/s eta 0:16:50     |██▊                             | 74.2 MB 1.0 MB/s eta 0:12:58     |███▎                            | 90.3 MB 1.0 MB/s eta 0:12:43     |████▍                           | 122.3 MB 1.3 MB/s eta 0:10:07     |████▉                           | 133.4 MB 1.4 MB/s eta 0:08:57     |████▉                           | 133.6 MB 1.4 MB/s eta 0:08:57     |█████                           | 140.4 MB 1.4 MB/s eta 0:08:35     |█████▊                          | 157.5 MB 958 kB/s eta 0:12:36     |██████                          | 165.8 MB 865 kB/s eta 0:13:48     |██████▌                         | 180.6 MB 1.4 MB/s eta 0:08:30     |███████                         | 194.8 MB 1.3 MB/s eta 0:09:09     |███████▎                        | 199.2 MB 1.1 MB/s eta 0:10:33     |███████▌                        | 207.6 MB 889 kB/s eta 0:12:38     |███████▊                        | 213.2 MB 978 kB/s eta 0:11:24     |████████▎                       | 226.9 MB 1.1 MB/s eta 0:09:51     |████████▌                       | 234.8 MB 710 kB/s eta 0:15:12     |███████████                     | 302.9 MB 1.1 MB/s eta 0:08:49     |██████████████                  | 382.9 MB 1.7 MB/s eta 0:04:49     |██████████████                  | 388.0 MB 2.1 MB/s eta 0:03:59     |██████████████▏                 | 391.7 MB 2.0 MB/s eta 0:04:04     |██████████████▌                 | 398.2 MB 1.9 MB/s eta 0:04:18     |███████████████▏                | 416.6 MB 907 kB/s eta 0:08:33     |████████████████▏               | 445.9 MB 987 kB/s eta 0:07:22     |████████████████▊               | 460.0 MB 1.0 MB/s eta 0:07:00     |█████████████████▍              | 478.4 MB 1.1 MB/s eta 0:06:11     |█████████████████▉              | 492.8 MB 1.1 MB/s eta 0:06:01     |██████████████████              | 498.5 MB 762 kB/s eta 0:08:23     |███████████████████▋            | 539.3 MB 943 kB/s eta 0:06:04     |████████████████████▌           | 564.8 MB 1.4 MB/s eta 0:03:49     |█████████████████████▌          | 594.1 MB 1.4 MB/s eta 0:03:25     |█████████████████████▉          | 602.7 MB 1.3 MB/s eta 0:03:34     |███████████████████████         | 632.4 MB 984 kB/s eta 0:04:14     |████████████████████████████    | 770.8 MB 834 kB/s eta 0:02:14     |████████████████████████████▋   | 789.4 MB 887 kB/s eta 0:01:45     |███████████████████████████████ | 854.8 MB 647 kB/s eta 0:00:42     |███████████████████████████████▍| 864.4 MB 1.1 MB/s eta 0:00:16     |████████████████████████████████| 881.5 MB 1.1 MB/s eta 0:00:01\n",
      "\u001b[?25hRequirement already satisfied: typing-extensions in /share/pkg.7/python3/3.8.10/install/lib/python3.8/site-packages (from torch) (3.10.0.0)\n",
      "Installing collected packages: torch\n",
      "\u001b[33m  WARNING: The scripts convert-caffe2-to-onnx, convert-onnx-to-caffe2 and torchrun are installed in '/usr4/cs542sp/yuanl1/.local/bin' which is not on PATH.\n",
      "  Consider adding this directory to PATH or, if you prefer to suppress this warning, use --no-warn-script-location.\u001b[0m\n",
      "Successfully installed torch-1.10.0\n",
      "\u001b[33mWARNING: You are using pip version 21.1.1; however, version 21.3.1 is available.\n",
      "You should consider upgrading via the '/share/pkg.7/python3/3.8.10/install/bin/python3.8 -m pip install --upgrade pip' command.\u001b[0m\n",
      "Note: you may need to restart the kernel to use updated packages.\n"
     ]
    }
   ],
   "source": [
    "pip install torch"
   ]
  },
  {
   "cell_type": "code",
   "execution_count": null,
   "id": "8cdd8b32",
   "metadata": {},
   "outputs": [],
   "source": [
    "# pip install dgl-cu111 -f https://data.dgl.ai/wheels/repo.html\n",
    "# pip install torch\n",
    "# sudo ldconfig /usr/local/cuda/lib64"
   ]
  }
 ],
 "metadata": {
  "kernelspec": {
   "display_name": "Python 3",
   "language": "python",
   "name": "python3"
  },
  "language_info": {
   "codemirror_mode": {
    "name": "ipython",
    "version": 3
   },
   "file_extension": ".py",
   "mimetype": "text/x-python",
   "name": "python",
   "nbconvert_exporter": "python",
   "pygments_lexer": "ipython3",
   "version": "3.8.10"
  }
 },
 "nbformat": 4,
 "nbformat_minor": 5
}
